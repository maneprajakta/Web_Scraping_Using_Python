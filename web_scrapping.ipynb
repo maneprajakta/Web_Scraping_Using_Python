{
 "cells": [
  {
   "cell_type": "markdown",
   "metadata": {},
   "source": [
    " # INTRODUCTION "
   ]
  },
  {
   "cell_type": "markdown",
   "metadata": {},
   "source": [
    "In this notebook we will scrap the website  https://www.hubertiming.com/results/2020FavoritePlace.  It is a website that is used to show the racing events going in Oregon united states. It displays the schedule of racing events that are upcoming and also the result of the recently happened race. We will do scrapping for the result of 2020 Favorite Place.\n",
    "Before starting have a look at the website to get an insight into it."
   ]
  },
  {
   "cell_type": "markdown",
   "metadata": {},
   "source": [
    "First, we will see the scraping part  - Import python libraries needed for scraping"
   ]
  },
  {
   "cell_type": "code",
   "execution_count": 2,
   "metadata": {},
   "outputs": [],
   "source": [
    "import requests    #this python library allow us to make HTTP requests ."
   ]
  },
  {
   "cell_type": "code",
   "execution_count": 3,
   "metadata": {},
   "outputs": [],
   "source": [
    "from bs4 import BeautifulSoup  #Beautiful Soup is a Python library for pulling data out of HTML and XML files."
   ]
  },
  {
   "cell_type": "code",
   "execution_count": 4,
   "metadata": {},
   "outputs": [],
   "source": [
    "url = \"https://www.hubertiming.com/results/2020FavoritePlace\"  #variable to store url"
   ]
  },
  {
   "cell_type": "markdown",
   "metadata": {},
   "source": [
    "Now HTTP has different methods to perform the desired operation on a specified resource. As we want to extract or retrieve data from the website we will use get method. Thus , we made our first request.It returns a response which we will store in the response variable."
   ]
  },
  {
   "cell_type": "code",
   "execution_count": 5,
   "metadata": {},
   "outputs": [],
   "source": [
    "response = requests.get(url)  "
   ]
  },
  {
   "cell_type": "code",
   "execution_count": 6,
   "metadata": {},
   "outputs": [],
   "source": [
    "#We will make BeautifulSoup object, which represents the document as a nested data structure.\n",
    "#Using lxml as a parser.\n",
    "#response.text  contain the response text  \n",
    "#Thus ,we havebs4 object containing response content parsed in lxml tree format\n",
    "\n",
    "soup = BeautifulSoup(response.text,\"lxml\")"
   ]
  },
  {
   "cell_type": "code",
   "execution_count": 7,
   "metadata": {},
   "outputs": [
    {
     "data": {
      "text/plain": [
       "bs4.BeautifulSoup"
      ]
     },
     "execution_count": 7,
     "metadata": {},
     "output_type": "execute_result"
    }
   ],
   "source": [
    "type(soup)"
   ]
  },
  {
   "cell_type": "code",
   "execution_count": 8,
   "metadata": {},
   "outputs": [],
   "source": [
    "#Now we will use the soup object to acces website content \n",
    "#we can select title tag of html to display title of page  as every website has only one tag.\n",
    "\n",
    "title = soup.select('title')                 "
   ]
  },
  {
   "cell_type": "code",
   "execution_count": 9,
   "metadata": {},
   "outputs": [
    {
     "name": "stdout",
     "output_type": "stream",
     "text": [
      "[<title>Race results for the 2020 Favorite Place 50K!</title>]\n"
     ]
    }
   ],
   "source": [
    "print(title)"
   ]
  },
  {
   "cell_type": "code",
   "execution_count": 15,
   "metadata": {},
   "outputs": [],
   "source": [
    "#if you inspect the page you will find that the table containg all data is having id = \"individualResults\"\n",
    "# we will get that id content and store it in table variable\n",
    "\n",
    "table = soup.find(id=\"individualResults\")\n",
    "#print(table)   #to display  content under table tag remove comment and try"
   ]
  },
  {
   "cell_type": "code",
   "execution_count": 11,
   "metadata": {},
   "outputs": [],
   "source": [
    "#A basic table structure in html looks like:\n",
    "\n",
    "#<table>\n",
    " #<thead>\n",
    "    #<tr>\n",
    "      #<th></th>\n",
    "    #</tr>\n",
    " #</thead>\n",
    " #<tbody>\n",
    "   #<tr>\n",
    "      #<td></td>\n",
    "   #</tr>\n",
    "#</tbody>\n",
    "#</table>\n",
    "\n",
    "#Here the table does not have a footer."
   ]
  },
  {
   "cell_type": "code",
   "execution_count": 16,
   "metadata": {},
   "outputs": [
    {
     "name": "stdout",
     "output_type": "stream",
     "text": [
      "<tr>\n",
      "<td>2</td>\n",
      "<td>222</td>\n",
      "<td>\n",
      "<img class=\"rounded-circle avatar\" src=\"/results/avatars?bib=222&amp;raceId=1731\"/>\r\n",
      "\r\n",
      "                    JOEL SEATON\r\n",
      "\r\n",
      "                </td>\n",
      "<td>M</td>\n",
      "<td>36</td>\n",
      "<td>SAN FRANCISCO</td>\n",
      "<td>CA</td>\n",
      "<td>3</td>\n",
      "<td>\r\n",
      "31.07 miles\r\n",
      "                            <span class=\"progress\" style=\"height: 20px;\">\n",
      "<div aria-valuemax=\"100\" aria-valuemin=\"0\" aria-valuenow=\"100\" class=\"progress-bar\" role=\"progressbar\" style=\"width: 100%;\">\r\n",
      "                                    100 %\r\n",
      "                                </div>\n",
      "</span>\n",
      "</td>\n",
      "<td>3:45:44</td>\n",
      "<td>7:15</td>\n",
      "</tr>\n"
     ]
    }
   ],
   "source": [
    "#From table now we will find all table row from table by tag 'tr'\n",
    "\n",
    "table_row  = table.find_all('tr')\n",
    "print(table_row[2])  #display first two row"
   ]
  },
  {
   "cell_type": "code",
   "execution_count": 19,
   "metadata": {},
   "outputs": [
    {
     "name": "stdout",
     "output_type": "stream",
     "text": [
      "['2', '222', '\\n\\r\\n\\r\\n                    JOEL SEATON\\r\\n\\r\\n                ', 'M', '36', 'SAN FRANCISCO', 'CA', '3', '\\r\\n31.07 miles\\r\\n                            \\n\\r\\n                                    100 %\\r\\n                                \\n\\n', '3:45:44', '7:15']\n"
     ]
    }
   ],
   "source": [
    "#From table row we need table data for that we will find all td tag and store there text in rows as list\n",
    "rows = []\n",
    "for tr in table_row:\n",
    "    td = tr.find_all('td')\n",
    "    row  = [i.text for i in td]\n",
    "    rows.append(row)\n",
    "    \n",
    "print(rows[2])   #display 2nd row "
   ]
  },
  {
   "cell_type": "code",
   "execution_count": 233,
   "metadata": {},
   "outputs": [
    {
     "name": "stdout",
     "output_type": "stream",
     "text": [
      "['Place', 'Bib', 'Name', 'Gender', 'Age', 'City', 'State', 'Splits', 'Distance', 'Time', 'Pace']\n"
     ]
    }
   ],
   "source": [
    "#for table comlumn heading we need tag th\n",
    "for tr in table_row:\n",
    "    th = tr.find_all('th')\n",
    "    head = [i.text for i in th]\n",
    "    print(head)\n",
    "    break"
   ]
  },
  {
   "cell_type": "code",
   "execution_count": 234,
   "metadata": {},
   "outputs": [],
   "source": [
    "del(rows[0]) #as 0th index list in rows is null remove it"
   ]
  },
  {
   "cell_type": "code",
   "execution_count": 20,
   "metadata": {},
   "outputs": [],
   "source": [
    "#print(rows)  \n",
    "#remove comment and see "
   ]
  },
  {
   "cell_type": "markdown",
   "metadata": {},
   "source": [
    "As now we have all table data in list of list  form we will convert it into dataframe through pandas."
   ]
  },
  {
   "cell_type": "code",
   "execution_count": 236,
   "metadata": {},
   "outputs": [],
   "source": [
    "import pandas as pd"
   ]
  },
  {
   "cell_type": "code",
   "execution_count": 237,
   "metadata": {},
   "outputs": [],
   "source": [
    "df = pd.DataFrame(rows) # converting rows to dataframe"
   ]
  },
  {
   "cell_type": "code",
   "execution_count": 238,
   "metadata": {},
   "outputs": [],
   "source": [
    "df.columns=head         #our dataframe should contain column heading df.columns does this "
   ]
  },
  {
   "cell_type": "code",
   "execution_count": 239,
   "metadata": {},
   "outputs": [
    {
     "data": {
      "text/html": [
       "<div>\n",
       "<style scoped>\n",
       "    .dataframe tbody tr th:only-of-type {\n",
       "        vertical-align: middle;\n",
       "    }\n",
       "\n",
       "    .dataframe tbody tr th {\n",
       "        vertical-align: top;\n",
       "    }\n",
       "\n",
       "    .dataframe thead th {\n",
       "        text-align: right;\n",
       "    }\n",
       "</style>\n",
       "<table border=\"1\" class=\"dataframe\">\n",
       "  <thead>\n",
       "    <tr style=\"text-align: right;\">\n",
       "      <th></th>\n",
       "      <th>Place</th>\n",
       "      <th>Bib</th>\n",
       "      <th>Name</th>\n",
       "      <th>Gender</th>\n",
       "      <th>Age</th>\n",
       "      <th>City</th>\n",
       "      <th>State</th>\n",
       "      <th>Splits</th>\n",
       "      <th>Distance</th>\n",
       "      <th>Time</th>\n",
       "      <th>Pace</th>\n",
       "    </tr>\n",
       "  </thead>\n",
       "  <tbody>\n",
       "    <tr>\n",
       "      <th>0</th>\n",
       "      <td>1</td>\n",
       "      <td>100</td>\n",
       "      <td>\\n\\r\\n\\r\\n                    JULI ADELMAN\\r\\n...</td>\n",
       "      <td>F</td>\n",
       "      <td>40</td>\n",
       "      <td>PORTLAND</td>\n",
       "      <td>OR</td>\n",
       "      <td>5</td>\n",
       "      <td>\\r\\n31.07 miles\\r\\n                           ...</td>\n",
       "      <td>3:42:28</td>\n",
       "      <td>7:09</td>\n",
       "    </tr>\n",
       "    <tr>\n",
       "      <th>1</th>\n",
       "      <td>2</td>\n",
       "      <td>222</td>\n",
       "      <td>\\n\\r\\n\\r\\n                    JOEL SEATON\\r\\n\\...</td>\n",
       "      <td>M</td>\n",
       "      <td>36</td>\n",
       "      <td>SAN FRANCISCO</td>\n",
       "      <td>CA</td>\n",
       "      <td>3</td>\n",
       "      <td>\\r\\n31.07 miles\\r\\n                           ...</td>\n",
       "      <td>3:45:44</td>\n",
       "      <td>7:15</td>\n",
       "    </tr>\n",
       "    <tr>\n",
       "      <th>2</th>\n",
       "      <td>3</td>\n",
       "      <td>248</td>\n",
       "      <td>\\n\\r\\n\\r\\n                    RYAN MCLAUGHLIN\\...</td>\n",
       "      <td>M</td>\n",
       "      <td>31</td>\n",
       "      <td>BEND</td>\n",
       "      <td>OR</td>\n",
       "      <td>5</td>\n",
       "      <td>\\r\\n31.07 miles\\r\\n                           ...</td>\n",
       "      <td>3:57:44</td>\n",
       "      <td>7:39</td>\n",
       "    </tr>\n",
       "    <tr>\n",
       "      <th>3</th>\n",
       "      <td>4</td>\n",
       "      <td>142</td>\n",
       "      <td>\\n\\r\\n\\r\\n                    KAITLIN GREENE\\r...</td>\n",
       "      <td>F</td>\n",
       "      <td>30</td>\n",
       "      <td>BEND</td>\n",
       "      <td>OR</td>\n",
       "      <td>5</td>\n",
       "      <td>\\r\\n31.07 miles\\r\\n                           ...</td>\n",
       "      <td>4:07:06</td>\n",
       "      <td>7:57</td>\n",
       "    </tr>\n",
       "    <tr>\n",
       "      <th>4</th>\n",
       "      <td>5</td>\n",
       "      <td>204</td>\n",
       "      <td>\\n\\r\\n\\r\\n                    ANNIE RADECKI\\r\\...</td>\n",
       "      <td>F</td>\n",
       "      <td>39</td>\n",
       "      <td>PORTLAND</td>\n",
       "      <td>OR</td>\n",
       "      <td>5</td>\n",
       "      <td>\\r\\n31.07 miles\\r\\n                           ...</td>\n",
       "      <td>4:09:16</td>\n",
       "      <td>8:01</td>\n",
       "    </tr>\n",
       "  </tbody>\n",
       "</table>\n",
       "</div>"
      ],
      "text/plain": [
       "  Place  Bib                                               Name Gender Age  \\\n",
       "0     1  100  \\n\\r\\n\\r\\n                    JULI ADELMAN\\r\\n...      F  40   \n",
       "1     2  222  \\n\\r\\n\\r\\n                    JOEL SEATON\\r\\n\\...      M  36   \n",
       "2     3  248  \\n\\r\\n\\r\\n                    RYAN MCLAUGHLIN\\...      M  31   \n",
       "3     4  142  \\n\\r\\n\\r\\n                    KAITLIN GREENE\\r...      F  30   \n",
       "4     5  204  \\n\\r\\n\\r\\n                    ANNIE RADECKI\\r\\...      F  39   \n",
       "\n",
       "            City State Splits  \\\n",
       "0       PORTLAND    OR      5   \n",
       "1  SAN FRANCISCO    CA      3   \n",
       "2           BEND    OR      5   \n",
       "3           BEND    OR      5   \n",
       "4       PORTLAND    OR      5   \n",
       "\n",
       "                                            Distance     Time  Pace  \n",
       "0  \\r\\n31.07 miles\\r\\n                           ...  3:42:28  7:09  \n",
       "1  \\r\\n31.07 miles\\r\\n                           ...  3:45:44  7:15  \n",
       "2  \\r\\n31.07 miles\\r\\n                           ...  3:57:44  7:39  \n",
       "3  \\r\\n31.07 miles\\r\\n                           ...  4:07:06  7:57  \n",
       "4  \\r\\n31.07 miles\\r\\n                           ...  4:09:16  8:01  "
      ]
     },
     "execution_count": 239,
     "metadata": {},
     "output_type": "execute_result"
    }
   ],
   "source": [
    "df.head()              #print first 5 rows of df."
   ]
  },
  {
   "cell_type": "markdown",
   "metadata": {},
   "source": [
    "You will observe that column Name and Distance contain \\n and \\r, we need to replace it by replace method ."
   ]
  },
  {
   "cell_type": "code",
   "execution_count": 240,
   "metadata": {},
   "outputs": [],
   "source": [
    "df = df.replace('\\n','', regex=True)\n",
    "df = df.replace('\\r','', regex=True)"
   ]
  },
  {
   "cell_type": "code",
   "execution_count": 241,
   "metadata": {},
   "outputs": [
    {
     "data": {
      "text/html": [
       "<div>\n",
       "<style scoped>\n",
       "    .dataframe tbody tr th:only-of-type {\n",
       "        vertical-align: middle;\n",
       "    }\n",
       "\n",
       "    .dataframe tbody tr th {\n",
       "        vertical-align: top;\n",
       "    }\n",
       "\n",
       "    .dataframe thead th {\n",
       "        text-align: right;\n",
       "    }\n",
       "</style>\n",
       "<table border=\"1\" class=\"dataframe\">\n",
       "  <thead>\n",
       "    <tr style=\"text-align: right;\">\n",
       "      <th></th>\n",
       "      <th>Place</th>\n",
       "      <th>Bib</th>\n",
       "      <th>Name</th>\n",
       "      <th>Gender</th>\n",
       "      <th>Age</th>\n",
       "      <th>City</th>\n",
       "      <th>State</th>\n",
       "      <th>Splits</th>\n",
       "      <th>Distance</th>\n",
       "      <th>Time</th>\n",
       "      <th>Pace</th>\n",
       "    </tr>\n",
       "  </thead>\n",
       "  <tbody>\n",
       "    <tr>\n",
       "      <th>0</th>\n",
       "      <td>1</td>\n",
       "      <td>100</td>\n",
       "      <td>JULI ADELMAN</td>\n",
       "      <td>F</td>\n",
       "      <td>40</td>\n",
       "      <td>PORTLAND</td>\n",
       "      <td>OR</td>\n",
       "      <td>5</td>\n",
       "      <td>31.07 miles                                   ...</td>\n",
       "      <td>3:42:28</td>\n",
       "      <td>7:09</td>\n",
       "    </tr>\n",
       "    <tr>\n",
       "      <th>1</th>\n",
       "      <td>2</td>\n",
       "      <td>222</td>\n",
       "      <td>JOEL SEATON</td>\n",
       "      <td>M</td>\n",
       "      <td>36</td>\n",
       "      <td>SAN FRANCISCO</td>\n",
       "      <td>CA</td>\n",
       "      <td>3</td>\n",
       "      <td>31.07 miles                                   ...</td>\n",
       "      <td>3:45:44</td>\n",
       "      <td>7:15</td>\n",
       "    </tr>\n",
       "    <tr>\n",
       "      <th>2</th>\n",
       "      <td>3</td>\n",
       "      <td>248</td>\n",
       "      <td>RYAN MCLAUGHLIN           ...</td>\n",
       "      <td>M</td>\n",
       "      <td>31</td>\n",
       "      <td>BEND</td>\n",
       "      <td>OR</td>\n",
       "      <td>5</td>\n",
       "      <td>31.07 miles                                   ...</td>\n",
       "      <td>3:57:44</td>\n",
       "      <td>7:39</td>\n",
       "    </tr>\n",
       "    <tr>\n",
       "      <th>3</th>\n",
       "      <td>4</td>\n",
       "      <td>142</td>\n",
       "      <td>KAITLIN GREENE            ...</td>\n",
       "      <td>F</td>\n",
       "      <td>30</td>\n",
       "      <td>BEND</td>\n",
       "      <td>OR</td>\n",
       "      <td>5</td>\n",
       "      <td>31.07 miles                                   ...</td>\n",
       "      <td>4:07:06</td>\n",
       "      <td>7:57</td>\n",
       "    </tr>\n",
       "    <tr>\n",
       "      <th>4</th>\n",
       "      <td>5</td>\n",
       "      <td>204</td>\n",
       "      <td>ANNIE RADECKI</td>\n",
       "      <td>F</td>\n",
       "      <td>39</td>\n",
       "      <td>PORTLAND</td>\n",
       "      <td>OR</td>\n",
       "      <td>5</td>\n",
       "      <td>31.07 miles                                   ...</td>\n",
       "      <td>4:09:16</td>\n",
       "      <td>8:01</td>\n",
       "    </tr>\n",
       "  </tbody>\n",
       "</table>\n",
       "</div>"
      ],
      "text/plain": [
       "  Place  Bib                                               Name Gender Age  \\\n",
       "0     1  100                       JULI ADELMAN                      F  40   \n",
       "1     2  222                        JOEL SEATON                      M  36   \n",
       "2     3  248                      RYAN MCLAUGHLIN           ...      M  31   \n",
       "3     4  142                      KAITLIN GREENE            ...      F  30   \n",
       "4     5  204                      ANNIE RADECKI                      F  39   \n",
       "\n",
       "            City State Splits  \\\n",
       "0       PORTLAND    OR      5   \n",
       "1  SAN FRANCISCO    CA      3   \n",
       "2           BEND    OR      5   \n",
       "3           BEND    OR      5   \n",
       "4       PORTLAND    OR      5   \n",
       "\n",
       "                                            Distance     Time  Pace  \n",
       "0  31.07 miles                                   ...  3:42:28  7:09  \n",
       "1  31.07 miles                                   ...  3:45:44  7:15  \n",
       "2  31.07 miles                                   ...  3:57:44  7:39  \n",
       "3  31.07 miles                                   ...  4:07:06  7:57  \n",
       "4  31.07 miles                                   ...  4:09:16  8:01  "
      ]
     },
     "execution_count": 241,
     "metadata": {},
     "output_type": "execute_result"
    }
   ],
   "source": [
    "df.head()"
   ]
  },
  {
   "cell_type": "code",
   "execution_count": 242,
   "metadata": {},
   "outputs": [
    {
     "name": "stdout",
     "output_type": "stream",
     "text": [
      "Place                                                       2\n",
      "Bib                                                       222\n",
      "Name                              JOEL SEATON                \n",
      "Gender                                                      M\n",
      "Age                                                        36\n",
      "City                                            SAN FRANCISCO\n",
      "State                                                      CA\n",
      "Splits                                                      3\n",
      "Distance    31.07 miles                                   ...\n",
      "Time                                                  3:45:44\n",
      "Pace                                                     7:15\n",
      "Name: 1, dtype: object\n"
     ]
    }
   ],
   "source": [
    "print(df.loc[1,:])  #print 1st row of df"
   ]
  },
  {
   "cell_type": "markdown",
   "metadata": {},
   "source": [
    "Our Column \"Name\" , \"Distance\" contain unnecessary white space that has to be removed"
   ]
  },
  {
   "cell_type": "code",
   "execution_count": 243,
   "metadata": {},
   "outputs": [],
   "source": [
    "df['Name'] = df['Name'].str.replace(\" \",\"\")   \n",
    "df['Distance'] = df['Distance'].str.replace(\" \",\"\")"
   ]
  },
  {
   "cell_type": "code",
   "execution_count": 244,
   "metadata": {},
   "outputs": [
    {
     "name": "stdout",
     "output_type": "stream",
     "text": [
      "Place                    2\n",
      "Bib                    222\n",
      "Name            JOELSEATON\n",
      "Gender                   M\n",
      "Age                     36\n",
      "City         SAN FRANCISCO\n",
      "State                   CA\n",
      "Splits                   3\n",
      "Distance    31.07miles100%\n",
      "Time               3:45:44\n",
      "Pace                  7:15\n",
      "Name: 1, dtype: object\n"
     ]
    }
   ],
   "source": [
    "print(df.loc[1,:])  #now it looks fine"
   ]
  },
  {
   "cell_type": "markdown",
   "metadata": {},
   "source": [
    "Our Column \"Distance\" contain miles... in it we need to remove that .\n",
    "we will do this by spliting the string at 'm' and taking 0th index from the list returned."
   ]
  },
  {
   "cell_type": "code",
   "execution_count": 245,
   "metadata": {},
   "outputs": [],
   "source": [
    "df['Distance'] = df['Distance'].str.split('m').str[0]"
   ]
  },
  {
   "cell_type": "code",
   "execution_count": 246,
   "metadata": {},
   "outputs": [
    {
     "name": "stdout",
     "output_type": "stream",
     "text": [
      "Place                   2\n",
      "Bib                   222\n",
      "Name           JOELSEATON\n",
      "Gender                  M\n",
      "Age                    36\n",
      "City        SAN FRANCISCO\n",
      "State                  CA\n",
      "Splits                  3\n",
      "Distance            31.07\n",
      "Time              3:45:44\n",
      "Pace                 7:15\n",
      "Name: 1, dtype: object\n"
     ]
    }
   ],
   "source": [
    "print(df.loc[1,:]) #Now it's awesome"
   ]
  },
  {
   "cell_type": "code",
   "execution_count": 247,
   "metadata": {},
   "outputs": [
    {
     "data": {
      "text/html": [
       "<div>\n",
       "<style scoped>\n",
       "    .dataframe tbody tr th:only-of-type {\n",
       "        vertical-align: middle;\n",
       "    }\n",
       "\n",
       "    .dataframe tbody tr th {\n",
       "        vertical-align: top;\n",
       "    }\n",
       "\n",
       "    .dataframe thead th {\n",
       "        text-align: right;\n",
       "    }\n",
       "</style>\n",
       "<table border=\"1\" class=\"dataframe\">\n",
       "  <thead>\n",
       "    <tr style=\"text-align: right;\">\n",
       "      <th></th>\n",
       "      <th>Place</th>\n",
       "      <th>Bib</th>\n",
       "      <th>Name</th>\n",
       "      <th>Gender</th>\n",
       "      <th>Age</th>\n",
       "      <th>City</th>\n",
       "      <th>State</th>\n",
       "      <th>Splits</th>\n",
       "      <th>Distance</th>\n",
       "      <th>Time</th>\n",
       "      <th>Pace</th>\n",
       "    </tr>\n",
       "  </thead>\n",
       "  <tbody>\n",
       "    <tr>\n",
       "      <th>237</th>\n",
       "      <td>238</td>\n",
       "      <td>309</td>\n",
       "      <td>TIMOTHYLOCK</td>\n",
       "      <td>M</td>\n",
       "      <td>39</td>\n",
       "      <td>HOPE</td>\n",
       "      <td>ME</td>\n",
       "      <td>4</td>\n",
       "      <td>30.21</td>\n",
       "      <td>5:12:35</td>\n",
       "      <td>10:20</td>\n",
       "    </tr>\n",
       "    <tr>\n",
       "      <th>238</th>\n",
       "      <td>239</td>\n",
       "      <td>107</td>\n",
       "      <td>PHILIPPEBOUTROS</td>\n",
       "      <td>M</td>\n",
       "      <td>28</td>\n",
       "      <td>PORTLAND</td>\n",
       "      <td>OR</td>\n",
       "      <td>1</td>\n",
       "      <td>30</td>\n",
       "      <td>4:50:00</td>\n",
       "      <td>9:40</td>\n",
       "    </tr>\n",
       "    <tr>\n",
       "      <th>239</th>\n",
       "      <td>240</td>\n",
       "      <td>256</td>\n",
       "      <td>MAGGIECONVERSE</td>\n",
       "      <td>F</td>\n",
       "      <td>36</td>\n",
       "      <td>PORTLAND</td>\n",
       "      <td>OR</td>\n",
       "      <td>9</td>\n",
       "      <td>28.95</td>\n",
       "      <td>7:37:47</td>\n",
       "      <td>15:48</td>\n",
       "    </tr>\n",
       "    <tr>\n",
       "      <th>240</th>\n",
       "      <td>241</td>\n",
       "      <td>111</td>\n",
       "      <td>VERONICABRUMMELL</td>\n",
       "      <td>F</td>\n",
       "      <td>33</td>\n",
       "      <td>VANCOUVER</td>\n",
       "      <td>WA</td>\n",
       "      <td>3</td>\n",
       "      <td>27.35</td>\n",
       "      <td>4:54:39</td>\n",
       "      <td>10:46</td>\n",
       "    </tr>\n",
       "    <tr>\n",
       "      <th>241</th>\n",
       "      <td>242</td>\n",
       "      <td>329</td>\n",
       "      <td>JESSICAROLAK</td>\n",
       "      <td>F</td>\n",
       "      <td>32</td>\n",
       "      <td>LOS ANGELES</td>\n",
       "      <td>CA</td>\n",
       "      <td>8</td>\n",
       "      <td>22.34</td>\n",
       "      <td>8:05:44</td>\n",
       "      <td>21:44</td>\n",
       "    </tr>\n",
       "    <tr>\n",
       "      <th>242</th>\n",
       "      <td>243</td>\n",
       "      <td>263</td>\n",
       "      <td>THONIAMARTUSHEV</td>\n",
       "      <td>F</td>\n",
       "      <td>25</td>\n",
       "      <td>BEAVERTON</td>\n",
       "      <td>OR</td>\n",
       "      <td>4</td>\n",
       "      <td>18.27</td>\n",
       "      <td>3:28:15</td>\n",
       "      <td>11:23</td>\n",
       "    </tr>\n",
       "    <tr>\n",
       "      <th>243</th>\n",
       "      <td>244</td>\n",
       "      <td>368</td>\n",
       "      <td>CHIPMACALPINE</td>\n",
       "      <td>M</td>\n",
       "      <td>42</td>\n",
       "      <td>BEAVERTON</td>\n",
       "      <td>OR</td>\n",
       "      <td>1</td>\n",
       "      <td>15.6</td>\n",
       "      <td>3:07:48</td>\n",
       "      <td>12:02</td>\n",
       "    </tr>\n",
       "    <tr>\n",
       "      <th>244</th>\n",
       "      <td>245</td>\n",
       "      <td>218</td>\n",
       "      <td>RENAESAAGER</td>\n",
       "      <td>F</td>\n",
       "      <td>33</td>\n",
       "      <td>MILTON FREEWATER</td>\n",
       "      <td>OR</td>\n",
       "      <td>3</td>\n",
       "      <td>13.86</td>\n",
       "      <td>3:14:30</td>\n",
       "      <td>14:01</td>\n",
       "    </tr>\n",
       "    <tr>\n",
       "      <th>245</th>\n",
       "      <td>246</td>\n",
       "      <td>287</td>\n",
       "      <td>ROBGRAHAM</td>\n",
       "      <td>M</td>\n",
       "      <td>43</td>\n",
       "      <td>BEND</td>\n",
       "      <td>OR</td>\n",
       "      <td>3</td>\n",
       "      <td>10.1</td>\n",
       "      <td>1:46:44</td>\n",
       "      <td>10:34</td>\n",
       "    </tr>\n",
       "    <tr>\n",
       "      <th>246</th>\n",
       "      <td>247</td>\n",
       "      <td>196</td>\n",
       "      <td>HUNTERNORDHAUSER</td>\n",
       "      <td>M</td>\n",
       "      <td>32</td>\n",
       "      <td>DENVER</td>\n",
       "      <td>CO</td>\n",
       "      <td>7</td>\n",
       "      <td>10.01</td>\n",
       "      <td>1:45:34</td>\n",
       "      <td>10:32</td>\n",
       "    </tr>\n",
       "  </tbody>\n",
       "</table>\n",
       "</div>"
      ],
      "text/plain": [
       "    Place  Bib              Name Gender Age              City State Splits  \\\n",
       "237   238  309       TIMOTHYLOCK      M  39              HOPE    ME      4   \n",
       "238   239  107   PHILIPPEBOUTROS      M  28          PORTLAND    OR      1   \n",
       "239   240  256    MAGGIECONVERSE      F  36          PORTLAND    OR      9   \n",
       "240   241  111  VERONICABRUMMELL      F  33         VANCOUVER    WA      3   \n",
       "241   242  329      JESSICAROLAK      F  32       LOS ANGELES    CA      8   \n",
       "242   243  263   THONIAMARTUSHEV      F  25         BEAVERTON    OR      4   \n",
       "243   244  368     CHIPMACALPINE      M  42         BEAVERTON    OR      1   \n",
       "244   245  218       RENAESAAGER      F  33  MILTON FREEWATER    OR      3   \n",
       "245   246  287         ROBGRAHAM      M  43              BEND    OR      3   \n",
       "246   247  196  HUNTERNORDHAUSER      M  32            DENVER    CO      7   \n",
       "\n",
       "    Distance     Time   Pace  \n",
       "237    30.21  5:12:35  10:20  \n",
       "238       30  4:50:00   9:40  \n",
       "239    28.95  7:37:47  15:48  \n",
       "240    27.35  4:54:39  10:46  \n",
       "241    22.34  8:05:44  21:44  \n",
       "242    18.27  3:28:15  11:23  \n",
       "243     15.6  3:07:48  12:02  \n",
       "244    13.86  3:14:30  14:01  \n",
       "245     10.1  1:46:44  10:34  \n",
       "246    10.01  1:45:34  10:32  "
      ]
     },
     "execution_count": 247,
     "metadata": {},
     "output_type": "execute_result"
    }
   ],
   "source": [
    "df.tail(10) #display last 10 rows of df"
   ]
  },
  {
   "cell_type": "code",
   "execution_count": 248,
   "metadata": {},
   "outputs": [
    {
     "data": {
      "text/plain": [
       "(247, 11)"
      ]
     },
     "execution_count": 248,
     "metadata": {},
     "output_type": "execute_result"
    }
   ],
   "source": [
    "df.shape  "
   ]
  },
  {
   "cell_type": "code",
   "execution_count": 249,
   "metadata": {},
   "outputs": [
    {
     "data": {
      "text/plain": [
       "<bound method DataFrame.info of     Place  Bib              Name Gender Age              City State Splits  \\\n",
       "0       1  100       JULIADELMAN      F  40          PORTLAND    OR      5   \n",
       "1       2  222        JOELSEATON      M  36     SAN FRANCISCO    CA      3   \n",
       "2       3  248    RYANMCLAUGHLIN      M  31              BEND    OR      5   \n",
       "3       4  142     KAITLINGREENE      F  30              BEND    OR      5   \n",
       "4       5  204      ANNIERADECKI      F  39          PORTLAND    OR      5   \n",
       "..    ...  ...               ...    ...  ..               ...   ...    ...   \n",
       "242   243  263   THONIAMARTUSHEV      F  25         BEAVERTON    OR      4   \n",
       "243   244  368     CHIPMACALPINE      M  42         BEAVERTON    OR      1   \n",
       "244   245  218       RENAESAAGER      F  33  MILTON FREEWATER    OR      3   \n",
       "245   246  287         ROBGRAHAM      M  43              BEND    OR      3   \n",
       "246   247  196  HUNTERNORDHAUSER      M  32            DENVER    CO      7   \n",
       "\n",
       "    Distance     Time   Pace  \n",
       "0      31.07  3:42:28   7:09  \n",
       "1      31.07  3:45:44   7:15  \n",
       "2      31.07  3:57:44   7:39  \n",
       "3      31.07  4:07:06   7:57  \n",
       "4      31.07  4:09:16   8:01  \n",
       "..       ...      ...    ...  \n",
       "242    18.27  3:28:15  11:23  \n",
       "243     15.6  3:07:48  12:02  \n",
       "244    13.86  3:14:30  14:01  \n",
       "245     10.1  1:46:44  10:34  \n",
       "246    10.01  1:45:34  10:32  \n",
       "\n",
       "[247 rows x 11 columns]>"
      ]
     },
     "execution_count": 249,
     "metadata": {},
     "output_type": "execute_result"
    }
   ],
   "source": [
    "df.info"
   ]
  },
  {
   "cell_type": "markdown",
   "metadata": {},
   "source": [
    "### we are done with it 😊!"
   ]
  },
  {
   "cell_type": "markdown",
   "metadata": {},
   "source": []
  }
 ],
 "metadata": {
  "kernelspec": {
   "display_name": "Python 3",
   "language": "python",
   "name": "python3"
  },
  "language_info": {
   "codemirror_mode": {
    "name": "ipython",
    "version": 3
   },
   "file_extension": ".py",
   "mimetype": "text/x-python",
   "name": "python",
   "nbconvert_exporter": "python",
   "pygments_lexer": "ipython3",
   "version": "3.7.5"
  }
 },
 "nbformat": 4,
 "nbformat_minor": 4
}
